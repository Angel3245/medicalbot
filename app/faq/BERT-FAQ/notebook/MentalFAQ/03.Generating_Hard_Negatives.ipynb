{
 "cells": [
  {
   "attachments": {},
   "cell_type": "markdown",
   "metadata": {
    "id": "JoWilTNGKcrO"
   },
   "source": [
    "**Generating Hard Negatives for MentalFAQ**"
   ]
  },
  {
   "cell_type": "code",
   "execution_count": 12,
   "metadata": {},
   "outputs": [
    {
     "name": "stdout",
     "output_type": "stream",
     "text": [
      "Requirement already satisfied: elasticsearch in c:\\users\\usuario\\appdata\\local\\programs\\python\\python39\\lib\\site-packages (7.17.8)\n",
      "Requirement already satisfied: certifi in c:\\users\\usuario\\appdata\\local\\programs\\python\\python39\\lib\\site-packages (from elasticsearch) (2022.9.24)\n",
      "Requirement already satisfied: urllib3<2,>=1.21.1 in c:\\users\\usuario\\appdata\\local\\programs\\python\\python39\\lib\\site-packages (from elasticsearch) (1.26.12)\n"
     ]
    }
   ],
   "source": [
    "!pip3 install elasticsearch"
   ]
  },
  {
   "cell_type": "code",
   "execution_count": 13,
   "metadata": {},
   "outputs": [
    {
     "name": "stdout",
     "output_type": "stream",
     "text": [
      "Requirement already satisfied: elasticsearch-dsl in c:\\users\\usuario\\appdata\\local\\programs\\python\\python39\\lib\\site-packages (7.4.0)\n",
      "Requirement already satisfied: elasticsearch<8.0.0,>=7.0.0 in c:\\users\\usuario\\appdata\\local\\programs\\python\\python39\\lib\\site-packages (from elasticsearch-dsl) (7.17.8)\n",
      "Requirement already satisfied: python-dateutil in c:\\users\\usuario\\appdata\\local\\programs\\python\\python39\\lib\\site-packages (from elasticsearch-dsl) (2.8.2)\n",
      "Requirement already satisfied: six in c:\\users\\usuario\\appdata\\local\\programs\\python\\python39\\lib\\site-packages (from elasticsearch-dsl) (1.16.0)\n",
      "Requirement already satisfied: urllib3<2,>=1.21.1 in c:\\users\\usuario\\appdata\\local\\programs\\python\\python39\\lib\\site-packages (from elasticsearch<8.0.0,>=7.0.0->elasticsearch-dsl) (1.26.12)\n",
      "Requirement already satisfied: certifi in c:\\users\\usuario\\appdata\\local\\programs\\python\\python39\\lib\\site-packages (from elasticsearch<8.0.0,>=7.0.0->elasticsearch-dsl) (2022.9.24)\n"
     ]
    }
   ],
   "source": [
    "!pip3 install elasticsearch-dsl"
   ]
  },
  {
   "cell_type": "code",
   "execution_count": 14,
   "metadata": {
    "id": "jop-QMVBD5a1"
   },
   "outputs": [],
   "source": [
    "from elasticsearch import Elasticsearch\n",
    "\n",
    "import sys\n",
    "sys.path.insert(0, '../../../BERT-FAQ/')\n",
    "\n",
    "from evaluation import get_relevance_label_df\n",
    "from evaluation import get_relevance_label\n",
    "from hard_negatives_generator import Hard_Negatives_Generator\n",
    "\n",
    "# import utility functions\n",
    "from shared.utils import load_from_json\n",
    "from shared.utils import dump_to_json\n",
    "from shared.utils import make_dirs"
   ]
  },
  {
   "cell_type": "code",
   "execution_count": 15,
   "metadata": {},
   "outputs": [
    {
     "data": {
      "text/html": [
       "<div>\n",
       "<style scoped>\n",
       "    .dataframe tbody tr th:only-of-type {\n",
       "        vertical-align: middle;\n",
       "    }\n",
       "\n",
       "    .dataframe tbody tr th {\n",
       "        vertical-align: top;\n",
       "    }\n",
       "\n",
       "    .dataframe thead th {\n",
       "        text-align: right;\n",
       "    }\n",
       "</style>\n",
       "<table border=\"1\" class=\"dataframe\">\n",
       "  <thead>\n",
       "    <tr style=\"text-align: right;\">\n",
       "      <th></th>\n",
       "      <th>label</th>\n",
       "      <th>query_type</th>\n",
       "      <th>question</th>\n",
       "      <th>answer</th>\n",
       "      <th>id</th>\n",
       "      <th>query_string</th>\n",
       "      <th>jc_sim</th>\n",
       "      <th>lv_dist</th>\n",
       "    </tr>\n",
       "  </thead>\n",
       "  <tbody>\n",
       "    <tr>\n",
       "      <th>0</th>\n",
       "      <td>1</td>\n",
       "      <td>faq</td>\n",
       "      <td>What is COVID-19?</td>\n",
       "      <td>COVID-19 is a new coronavirus that we have not...</td>\n",
       "      <td>1</td>\n",
       "      <td>NaN</td>\n",
       "      <td>NaN</td>\n",
       "      <td>NaN</td>\n",
       "    </tr>\n",
       "    <tr>\n",
       "      <th>1</th>\n",
       "      <td>1</td>\n",
       "      <td>faq</td>\n",
       "      <td>What is a coronavirus?</td>\n",
       "      <td>Coronavirus are a type of virus - there are ma...</td>\n",
       "      <td>2</td>\n",
       "      <td>NaN</td>\n",
       "      <td>NaN</td>\n",
       "      <td>NaN</td>\n",
       "    </tr>\n",
       "    <tr>\n",
       "      <th>2</th>\n",
       "      <td>1</td>\n",
       "      <td>faq</td>\n",
       "      <td>Any advice about how to minimize risk during g...</td>\n",
       "      <td>Currently, there is no evidence of food or foo...</td>\n",
       "      <td>3</td>\n",
       "      <td>NaN</td>\n",
       "      <td>NaN</td>\n",
       "      <td>NaN</td>\n",
       "    </tr>\n",
       "    <tr>\n",
       "      <th>3</th>\n",
       "      <td>1</td>\n",
       "      <td>faq</td>\n",
       "      <td>Why do I have to stay at home?</td>\n",
       "      <td>Socially distancing is a practice that aims to...</td>\n",
       "      <td>4</td>\n",
       "      <td>NaN</td>\n",
       "      <td>NaN</td>\n",
       "      <td>NaN</td>\n",
       "    </tr>\n",
       "    <tr>\n",
       "      <th>4</th>\n",
       "      <td>1</td>\n",
       "      <td>faq</td>\n",
       "      <td>What is social distancing and how does it help...</td>\n",
       "      <td>Social distancing is one of the most effective...</td>\n",
       "      <td>5</td>\n",
       "      <td>NaN</td>\n",
       "      <td>NaN</td>\n",
       "      <td>NaN</td>\n",
       "    </tr>\n",
       "    <tr>\n",
       "      <th>...</th>\n",
       "      <td>...</td>\n",
       "      <td>...</td>\n",
       "      <td>...</td>\n",
       "      <td>...</td>\n",
       "      <td>...</td>\n",
       "      <td>...</td>\n",
       "      <td>...</td>\n",
       "      <td>...</td>\n",
       "    </tr>\n",
       "    <tr>\n",
       "      <th>1466</th>\n",
       "      <td>1</td>\n",
       "      <td>user_query</td>\n",
       "      <td>Will warm weather / summer / heat stop outbrea...</td>\n",
       "      <td>We do not know. Some viruses, like the common ...</td>\n",
       "      <td>1467</td>\n",
       "      <td>will coronavirus stop in summer</td>\n",
       "      <td>0.2500</td>\n",
       "      <td>0.2500</td>\n",
       "    </tr>\n",
       "    <tr>\n",
       "      <th>1467</th>\n",
       "      <td>1</td>\n",
       "      <td>user_query</td>\n",
       "      <td>Will warm weather / summer / heat stop outbrea...</td>\n",
       "      <td>We do not know. Some viruses, like the common ...</td>\n",
       "      <td>1468</td>\n",
       "      <td>will coronavirus stop in the summer</td>\n",
       "      <td>0.2308</td>\n",
       "      <td>0.2667</td>\n",
       "    </tr>\n",
       "    <tr>\n",
       "      <th>1468</th>\n",
       "      <td>1</td>\n",
       "      <td>user_query</td>\n",
       "      <td>Will warm weather / summer / heat stop outbrea...</td>\n",
       "      <td>We do not know. Some viruses, like the common ...</td>\n",
       "      <td>1469</td>\n",
       "      <td>will coronavirus survive in the summer</td>\n",
       "      <td>0.1429</td>\n",
       "      <td>0.2833</td>\n",
       "    </tr>\n",
       "    <tr>\n",
       "      <th>1469</th>\n",
       "      <td>1</td>\n",
       "      <td>user_query</td>\n",
       "      <td>How long does the virus live on surfaces, like...</td>\n",
       "      <td>A recent study shows that the virus can live i...</td>\n",
       "      <td>1470</td>\n",
       "      <td>will coronavirus survive on surfaces</td>\n",
       "      <td>0.0455</td>\n",
       "      <td>0.2115</td>\n",
       "    </tr>\n",
       "    <tr>\n",
       "      <th>1470</th>\n",
       "      <td>1</td>\n",
       "      <td>user_query</td>\n",
       "      <td>Will warm weather / summer / heat stop outbrea...</td>\n",
       "      <td>We do not know. Some viruses, like the common ...</td>\n",
       "      <td>1471</td>\n",
       "      <td>world coronavirus die in summer</td>\n",
       "      <td>0.0714</td>\n",
       "      <td>0.1833</td>\n",
       "    </tr>\n",
       "  </tbody>\n",
       "</table>\n",
       "<p>1471 rows × 8 columns</p>\n",
       "</div>"
      ],
      "text/plain": [
       "      label  query_type                                           question  \\\n",
       "0         1         faq                                 What is COVID-19?    \n",
       "1         1         faq                             What is a coronavirus?   \n",
       "2         1         faq  Any advice about how to minimize risk during g...   \n",
       "3         1         faq                     Why do I have to stay at home?   \n",
       "4         1         faq  What is social distancing and how does it help...   \n",
       "...     ...         ...                                                ...   \n",
       "1466      1  user_query  Will warm weather / summer / heat stop outbrea...   \n",
       "1467      1  user_query  Will warm weather / summer / heat stop outbrea...   \n",
       "1468      1  user_query  Will warm weather / summer / heat stop outbrea...   \n",
       "1469      1  user_query  How long does the virus live on surfaces, like...   \n",
       "1470      1  user_query  Will warm weather / summer / heat stop outbrea...   \n",
       "\n",
       "                                                 answer    id  \\\n",
       "0     COVID-19 is a new coronavirus that we have not...     1   \n",
       "1     Coronavirus are a type of virus - there are ma...     2   \n",
       "2     Currently, there is no evidence of food or foo...     3   \n",
       "3     Socially distancing is a practice that aims to...     4   \n",
       "4     Social distancing is one of the most effective...     5   \n",
       "...                                                 ...   ...   \n",
       "1466  We do not know. Some viruses, like the common ...  1467   \n",
       "1467  We do not know. Some viruses, like the common ...  1468   \n",
       "1468  We do not know. Some viruses, like the common ...  1469   \n",
       "1469  A recent study shows that the virus can live i...  1470   \n",
       "1470  We do not know. Some viruses, like the common ...  1471   \n",
       "\n",
       "                                query_string  jc_sim lv_dist  \n",
       "0                                        NaN     NaN     NaN  \n",
       "1                                        NaN     NaN     NaN  \n",
       "2                                        NaN     NaN     NaN  \n",
       "3                                        NaN     NaN     NaN  \n",
       "4                                        NaN     NaN     NaN  \n",
       "...                                      ...     ...     ...  \n",
       "1466         will coronavirus stop in summer  0.2500  0.2500  \n",
       "1467     will coronavirus stop in the summer  0.2308  0.2667  \n",
       "1468  will coronavirus survive in the summer  0.1429  0.2833  \n",
       "1469    will coronavirus survive on surfaces  0.0455  0.2115  \n",
       "1470         world coronavirus die in summer  0.0714  0.1833  \n",
       "\n",
       "[1471 rows x 8 columns]"
      ]
     },
     "execution_count": 15,
     "metadata": {},
     "output_type": "execute_result"
    }
   ],
   "source": [
    "query_answer_pair_filepath = '../../../BERT-FAQ/data/MentalFAQ/query_answer_pairs.json'\n",
    "relevance_label_df = get_relevance_label_df(query_answer_pair_filepath)\n",
    "relevance_label_df"
   ]
  },
  {
   "cell_type": "code",
   "execution_count": 16,
   "metadata": {},
   "outputs": [
    {
     "ename": "ValueError",
     "evalue": "Grouper for 'query_string' not 1-dimensional",
     "output_type": "error",
     "traceback": [
      "\u001b[1;31m---------------------------------------------------------------------------\u001b[0m",
      "\u001b[1;31mValueError\u001b[0m                                Traceback (most recent call last)",
      "Cell \u001b[1;32mIn[16], line 5\u001b[0m\n\u001b[0;32m      1\u001b[0m es \u001b[39m=\u001b[39m Elasticsearch([{\u001b[39m'\u001b[39m\u001b[39mhost\u001b[39m\u001b[39m'\u001b[39m:\u001b[39m'\u001b[39m\u001b[39mlocalhost\u001b[39m\u001b[39m'\u001b[39m,\u001b[39m'\u001b[39m\u001b[39mport\u001b[39m\u001b[39m'\u001b[39m:\u001b[39m9200\u001b[39m}], http_auth\u001b[39m=\u001b[39m(\u001b[39m'\u001b[39m\u001b[39musername\u001b[39m\u001b[39m'\u001b[39m, \u001b[39m'\u001b[39m\u001b[39mpassword\u001b[39m\u001b[39m'\u001b[39m)) \n\u001b[0;32m      3\u001b[0m hng \u001b[39m=\u001b[39m Hard_Negatives_Generator(\n\u001b[0;32m      4\u001b[0m     es\u001b[39m=\u001b[39mes, index\u001b[39m=\u001b[39m\u001b[39m'\u001b[39m\u001b[39mmentalfaq\u001b[39m\u001b[39m'\u001b[39m, query_by\u001b[39m=\u001b[39m[\u001b[39m'\u001b[39m\u001b[39mquestion_answer\u001b[39m\u001b[39m'\u001b[39m], top_k\u001b[39m=\u001b[39m\u001b[39m100\u001b[39m, query_type\u001b[39m=\u001b[39m\u001b[39m'\u001b[39m\u001b[39mfaq\u001b[39m\u001b[39m'\u001b[39m)\n\u001b[1;32m----> 5\u001b[0m hard_negatives_faq \u001b[39m=\u001b[39m hng\u001b[39m.\u001b[39;49mget_hard_negatives(relevance_label_df)\n\u001b[0;32m      6\u001b[0m \u001b[39mprint\u001b[39m(hard_negatives_faq)\n\u001b[0;32m      7\u001b[0m dump_to_json(hard_negatives_faq, \u001b[39m'\u001b[39m\u001b[39m../../../BERT-FAQ/data/MentalFAQ/hard_negatives_faq.json\u001b[39m\u001b[39m'\u001b[39m)\n",
      "File \u001b[1;32mc:\\Users\\Usuario\\Documents\\Uni\\TFG\\BERT-FAQ\\notebook\\MentalFAQ\\../../../BERT-FAQ\\hard_negatives_generator.py:25\u001b[0m, in \u001b[0;36mHard_Negatives_Generator.get_hard_negatives\u001b[1;34m(self, relevance_label_df)\u001b[0m\n\u001b[0;32m     22\u001b[0m s \u001b[39m=\u001b[39m Searcher(\u001b[39mself\u001b[39m\u001b[39m.\u001b[39mes, index\u001b[39m=\u001b[39m\u001b[39mself\u001b[39m\u001b[39m.\u001b[39mindex, fields\u001b[39m=\u001b[39m\u001b[39mself\u001b[39m\u001b[39m.\u001b[39mquery_by , top_k\u001b[39m=\u001b[39m\u001b[39mself\u001b[39m\u001b[39m.\u001b[39mtop_k)\n\u001b[0;32m     24\u001b[0m \u001b[39m# Generate a dictionary where {key: query_string, value: list of answers}\u001b[39;00m\n\u001b[1;32m---> 25\u001b[0m relevance_label \u001b[39m=\u001b[39m get_relevance_label(relevance_label_df)\n\u001b[0;32m     27\u001b[0m unique_questions \u001b[39m=\u001b[39m []\n\u001b[0;32m     29\u001b[0m \u001b[39mif\u001b[39;00m \u001b[39mself\u001b[39m\u001b[39m.\u001b[39mquery_type \u001b[39m==\u001b[39m \u001b[39m\"\u001b[39m\u001b[39mfaq\u001b[39m\u001b[39m\"\u001b[39m:\n",
      "File \u001b[1;32mc:\\Users\\Usuario\\Documents\\Uni\\TFG\\BERT-FAQ\\notebook\\MentalFAQ\\../../../BERT-FAQ\\evaluation.py:37\u001b[0m, in \u001b[0;36mget_relevance_label\u001b[1;34m(relevance_label_df)\u001b[0m\n\u001b[0;32m     35\u001b[0m \u001b[39mdef\u001b[39;00m \u001b[39mget_relevance_label\u001b[39m(relevance_label_df):\n\u001b[0;32m     36\u001b[0m     relevance_label_df\u001b[39m.\u001b[39mrename(columns\u001b[39m=\u001b[39m{\u001b[39m'\u001b[39m\u001b[39mquestion\u001b[39m\u001b[39m'\u001b[39m: \u001b[39m'\u001b[39m\u001b[39mquery_string\u001b[39m\u001b[39m'\u001b[39m}, inplace\u001b[39m=\u001b[39m\u001b[39mTrue\u001b[39;00m)\n\u001b[1;32m---> 37\u001b[0m     relevance_label \u001b[39m=\u001b[39m relevance_label_df\u001b[39m.\u001b[39;49mgroupby([\u001b[39m'\u001b[39;49m\u001b[39mquery_string\u001b[39;49m\u001b[39m'\u001b[39;49m])[\u001b[39m'\u001b[39m\u001b[39manswer\u001b[39m\u001b[39m'\u001b[39m]\u001b[39m.\u001b[39mapply(\u001b[39mlist\u001b[39m)\u001b[39m.\u001b[39mto_dict()\n\u001b[0;32m     38\u001b[0m     \u001b[39mreturn\u001b[39;00m relevance_label\n",
      "File \u001b[1;32mc:\\Users\\Usuario\\AppData\\Local\\Programs\\Python\\Python39\\lib\\site-packages\\pandas\\core\\frame.py:8389\u001b[0m, in \u001b[0;36mDataFrame.groupby\u001b[1;34m(self, by, axis, level, as_index, sort, group_keys, squeeze, observed, dropna)\u001b[0m\n\u001b[0;32m   8386\u001b[0m     \u001b[39mraise\u001b[39;00m \u001b[39mTypeError\u001b[39;00m(\u001b[39m\"\u001b[39m\u001b[39mYou have to supply one of \u001b[39m\u001b[39m'\u001b[39m\u001b[39mby\u001b[39m\u001b[39m'\u001b[39m\u001b[39m and \u001b[39m\u001b[39m'\u001b[39m\u001b[39mlevel\u001b[39m\u001b[39m'\u001b[39m\u001b[39m\"\u001b[39m)\n\u001b[0;32m   8387\u001b[0m axis \u001b[39m=\u001b[39m \u001b[39mself\u001b[39m\u001b[39m.\u001b[39m_get_axis_number(axis)\n\u001b[1;32m-> 8389\u001b[0m \u001b[39mreturn\u001b[39;00m DataFrameGroupBy(\n\u001b[0;32m   8390\u001b[0m     obj\u001b[39m=\u001b[39;49m\u001b[39mself\u001b[39;49m,\n\u001b[0;32m   8391\u001b[0m     keys\u001b[39m=\u001b[39;49mby,\n\u001b[0;32m   8392\u001b[0m     axis\u001b[39m=\u001b[39;49maxis,\n\u001b[0;32m   8393\u001b[0m     level\u001b[39m=\u001b[39;49mlevel,\n\u001b[0;32m   8394\u001b[0m     as_index\u001b[39m=\u001b[39;49mas_index,\n\u001b[0;32m   8395\u001b[0m     sort\u001b[39m=\u001b[39;49msort,\n\u001b[0;32m   8396\u001b[0m     group_keys\u001b[39m=\u001b[39;49mgroup_keys,\n\u001b[0;32m   8397\u001b[0m     squeeze\u001b[39m=\u001b[39;49msqueeze,\n\u001b[0;32m   8398\u001b[0m     observed\u001b[39m=\u001b[39;49mobserved,\n\u001b[0;32m   8399\u001b[0m     dropna\u001b[39m=\u001b[39;49mdropna,\n\u001b[0;32m   8400\u001b[0m )\n",
      "File \u001b[1;32mc:\\Users\\Usuario\\AppData\\Local\\Programs\\Python\\Python39\\lib\\site-packages\\pandas\\core\\groupby\\groupby.py:959\u001b[0m, in \u001b[0;36mGroupBy.__init__\u001b[1;34m(self, obj, keys, axis, level, grouper, exclusions, selection, as_index, sort, group_keys, squeeze, observed, mutated, dropna)\u001b[0m\n\u001b[0;32m    956\u001b[0m \u001b[39mif\u001b[39;00m grouper \u001b[39mis\u001b[39;00m \u001b[39mNone\u001b[39;00m:\n\u001b[0;32m    957\u001b[0m     \u001b[39mfrom\u001b[39;00m \u001b[39mpandas\u001b[39;00m\u001b[39m.\u001b[39;00m\u001b[39mcore\u001b[39;00m\u001b[39m.\u001b[39;00m\u001b[39mgroupby\u001b[39;00m\u001b[39m.\u001b[39;00m\u001b[39mgrouper\u001b[39;00m \u001b[39mimport\u001b[39;00m get_grouper\n\u001b[1;32m--> 959\u001b[0m     grouper, exclusions, obj \u001b[39m=\u001b[39m get_grouper(\n\u001b[0;32m    960\u001b[0m         obj,\n\u001b[0;32m    961\u001b[0m         keys,\n\u001b[0;32m    962\u001b[0m         axis\u001b[39m=\u001b[39;49maxis,\n\u001b[0;32m    963\u001b[0m         level\u001b[39m=\u001b[39;49mlevel,\n\u001b[0;32m    964\u001b[0m         sort\u001b[39m=\u001b[39;49msort,\n\u001b[0;32m    965\u001b[0m         observed\u001b[39m=\u001b[39;49mobserved,\n\u001b[0;32m    966\u001b[0m         mutated\u001b[39m=\u001b[39;49m\u001b[39mself\u001b[39;49m\u001b[39m.\u001b[39;49mmutated,\n\u001b[0;32m    967\u001b[0m         dropna\u001b[39m=\u001b[39;49m\u001b[39mself\u001b[39;49m\u001b[39m.\u001b[39;49mdropna,\n\u001b[0;32m    968\u001b[0m     )\n\u001b[0;32m    970\u001b[0m \u001b[39mself\u001b[39m\u001b[39m.\u001b[39mobj \u001b[39m=\u001b[39m obj\n\u001b[0;32m    971\u001b[0m \u001b[39mself\u001b[39m\u001b[39m.\u001b[39maxis \u001b[39m=\u001b[39m obj\u001b[39m.\u001b[39m_get_axis_number(axis)\n",
      "File \u001b[1;32mc:\\Users\\Usuario\\AppData\\Local\\Programs\\Python\\Python39\\lib\\site-packages\\pandas\\core\\groupby\\grouper.py:883\u001b[0m, in \u001b[0;36mget_grouper\u001b[1;34m(obj, key, axis, level, sort, observed, mutated, validate, dropna)\u001b[0m\n\u001b[0;32m    879\u001b[0m     in_axis, name, gpr \u001b[39m=\u001b[39m \u001b[39mTrue\u001b[39;00m, gpr, obj[gpr]\n\u001b[0;32m    880\u001b[0m     \u001b[39mif\u001b[39;00m gpr\u001b[39m.\u001b[39mndim \u001b[39m!=\u001b[39m \u001b[39m1\u001b[39m:\n\u001b[0;32m    881\u001b[0m         \u001b[39m# non-unique columns; raise here to get the name in the\u001b[39;00m\n\u001b[0;32m    882\u001b[0m         \u001b[39m# exception message\u001b[39;00m\n\u001b[1;32m--> 883\u001b[0m         \u001b[39mraise\u001b[39;00m \u001b[39mValueError\u001b[39;00m(\u001b[39mf\u001b[39m\u001b[39m\"\u001b[39m\u001b[39mGrouper for \u001b[39m\u001b[39m'\u001b[39m\u001b[39m{\u001b[39;00mname\u001b[39m}\u001b[39;00m\u001b[39m'\u001b[39m\u001b[39m not 1-dimensional\u001b[39m\u001b[39m\"\u001b[39m)\n\u001b[0;32m    884\u001b[0m     exclusions\u001b[39m.\u001b[39madd(name)\n\u001b[0;32m    885\u001b[0m \u001b[39melif\u001b[39;00m obj\u001b[39m.\u001b[39m_is_level_reference(gpr, axis\u001b[39m=\u001b[39maxis):\n",
      "\u001b[1;31mValueError\u001b[0m: Grouper for 'query_string' not 1-dimensional"
     ]
    }
   ],
   "source": [
    "es = Elasticsearch([{'host':'localhost','port':9200}], http_auth=('username', 'password')) \n",
    "\n",
    "hng = Hard_Negatives_Generator(\n",
    "    es=es, index='mentalfaq', query_by=['question_answer'], top_k=100, query_type='faq')\n",
    "hard_negatives_faq = hng.get_hard_negatives(relevance_label_df)\n",
    "print(hard_negatives_faq)\n",
    "dump_to_json(hard_negatives_faq, '../../../BERT-FAQ/data/MentalFAQ/hard_negatives_faq.json')\n",
    "\n",
    "hng = Hard_Negatives_Generator(\n",
    "    es=es, index='mentalfaq', query_by=['question_answer'], top_k=100, query_type='user_query')\n",
    "hard_negatives_user_query = hng.get_hard_negatives(relevance_label_df)\n",
    "\n",
    "print(hard_negatives_user_query)\n",
    "dump_to_json(hard_negatives_user_query, '../../../BERT-FAQ/data/MentalFAQ/hard_negatives_user_query.json')"
   ]
  },
  {
   "cell_type": "code",
   "execution_count": null,
   "metadata": {},
   "outputs": [],
   "source": []
  }
 ],
 "metadata": {
  "accelerator": "GPU",
  "colab": {
   "collapsed_sections": [],
   "name": "01_Generating_Ground_Truth_Dataset_for_FAQIR.ipynb",
   "provenance": []
  },
  "kernelspec": {
   "display_name": "Python 3",
   "language": "python",
   "name": "python3"
  },
  "language_info": {
   "codemirror_mode": {
    "name": "ipython",
    "version": 3
   },
   "file_extension": ".py",
   "mimetype": "text/x-python",
   "name": "python",
   "nbconvert_exporter": "python",
   "pygments_lexer": "ipython3",
   "version": "3.9.13"
  },
  "vscode": {
   "interpreter": {
    "hash": "4a642a9a94d05d387b7a27be99b5a4ff6656c8c24931cc81c2f78dd14cfb5dc8"
   }
  }
 },
 "nbformat": 4,
 "nbformat_minor": 1
}
