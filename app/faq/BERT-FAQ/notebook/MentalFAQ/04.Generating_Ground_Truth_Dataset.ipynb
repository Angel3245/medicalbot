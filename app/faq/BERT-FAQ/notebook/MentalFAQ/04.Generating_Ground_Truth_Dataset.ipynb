{
 "cells": [
  {
   "attachments": {},
   "cell_type": "markdown",
   "metadata": {
    "id": "JoWilTNGKcrO"
   },
   "source": [
    "**Generating Ground-truth MentalFAQ dataset for model training**"
   ]
  },
  {
   "cell_type": "code",
   "execution_count": 1,
   "metadata": {
    "id": "jop-QMVBD5a1"
   },
   "outputs": [],
   "source": [
    "import sys\n",
    "sys.path.insert(0, '../../../BERT-FAQ/')\n",
    "\n",
    "# import class to generate training data\n",
    "from training_data_generator import Training_Data_Generator\n",
    "\n",
    "# import utility functions\n",
    "from shared.utils import load_from_json\n",
    "from shared.utils import dump_to_json\n",
    "from shared.utils import make_dirs"
   ]
  },
  {
   "cell_type": "code",
   "execution_count": 2,
   "metadata": {
    "id": "V3my3-bmcPF6"
   },
   "outputs": [],
   "source": [
    "# read query_answer_pairs\n",
    "filepath = '../../../BERT-FAQ/data/MentalFAQ/query_answer_pairs.json'\n",
    "\n",
    "query_answer_pairs = load_from_json(filepath)"
   ]
  },
  {
   "cell_type": "code",
   "execution_count": 3,
   "metadata": {},
   "outputs": [
    {
     "data": {
      "text/plain": [
       "[{'label': 1,\n",
       "  'query_type': 'faq',\n",
       "  'question': 'What does it mean to have a mental illness?',\n",
       "  'answer': 'Mental illnesses are health conditions that disrupt a personâ€™s thoughts, emotions, relationships, and daily functioning. They are associated with distress and diminished capacity to engage in the ordinary activities of daily life.\\nMental illnesses fall along a continuum of severity: some are fairly mild and only interfere with some aspects of life, such as certain phobias. On the other end of the spectrum lie serious mental illnesses, which result in major functional impairment and interference with daily life. These include such disorders as major depression, schizophrenia, and bipolar disorder, and may require that the person receives care in a hospital.\\nIt is important to know that mental illnesses are medical conditions that have nothing to do with a personâ€™s character, intelligence, or willpower. Just as diabetes is a disorder of the pancreas, mental illness is a medical condition due to the brainâ€™s biology.\\nSimilarly to how one would treat diabetes with medication and insulin, mental illness is treatable with a combination of medication and social support. These treatments are highly effective, with 70-90 percent of individuals receiving treatment experiencing a reduction in symptoms and an improved quality of life. With the proper treatment, it is very possible for a person with mental illness to be independent and successful.',\n",
       "  'id': '1'},\n",
       " {'label': 1,\n",
       "  'query_type': 'faq',\n",
       "  'question': 'Who does mental illness affect?',\n",
       "  'answer': 'It is estimated that mental illness affects 1 in 5 adults in America, and that 1 in 24 adults have a serious mental illness. Mental illness does not discriminate; it can affect anyone, regardless of gender, age, income, social status, ethnicity, religion, sexual orientation, or background.\\nAlthough mental illness can affect anyone, certain conditions may be more common in different populations. For instance, eating disorders tend to occur more often in females, while disorders such as attention deficit/hyperactivity disorder is more prevalent in children.\\nAdditionally, all ages are susceptible, but the young and the old are especially vulnerable. Mental illnesses usually strike individuals in the prime of their lives, with 75 percent of mental health conditions developing by the age of 24. This makes identification and treatment of mental disorders particularly difficult, because the normal personality and behavioral changes of adolescence may mask symptoms of a mental health condition.\\nParents and caretakers should be aware of this fact, and take notice of changes in their childâ€™s mood, personality, personal habits, and social withdrawal. When these occur in children under 18, they are referred to as serious emotional disturbances (SEDs).',\n",
       "  'id': '2'},\n",
       " {'label': 1,\n",
       "  'query_type': 'faq',\n",
       "  'question': 'What causes mental illness?',\n",
       "  'answer': 'It is estimated that mental illness affects 1 in 5 adults in America, and that 1 in 24 adults have a serious mental illness. Mental illness does not discriminate; it can affect anyone, regardless of gender, age, income, social status, ethnicity, religion, sexual orientation, or background. Although mental illness can affect anyone, certain conditions may be more common in different populations. For instance, eating disorders tend to occur more often in females, while disorders such as attention deficit/hyperactivity disorder is more prevalent in children. Additionally, all ages are susceptible, but the young and the old are especially vulnerable. Mental illnesses usually strike individuals in the prime of their lives, with 75 percent of mental health conditions developing by the age of 24. This makes identification and treatment of mental disorders particularly difficult, because the normal personality and behavioral changes of adolescence may mask symptoms of a mental health condition. Parents and caretakers should be aware of this fact, and take notice of changes in their child’s mood, personality, personal habits, and social withdrawal. When these occur in children under 18, they are referred to as serious emotional disturbances (SEDs).',\n",
       "  'id': '3'},\n",
       " {'label': 1,\n",
       "  'query_type': 'faq',\n",
       "  'question': 'What are some of the warning signs of mental illness?',\n",
       "  'answer': 'Symptoms of mental health disorders vary depending on the type and severity of the condition. The following is a list of general symptoms that may suggest a mental health disorder, particularly when multiple symptoms are expressed at once.\\nIn adults:\\nConfused thinking\\nLong-lasting sadness or irritability\\nExtreme highs and lows in mood\\nExcessive fear, worrying, or anxiety\\nSocial withdrawal\\nDramatic changes in eating or sleeping habits\\nStrong feelings of anger\\nDelusions or hallucinations (seeing or hearing things that are not really there)\\nIncreasing inability to cope with daily problems and activities\\nThoughts of suicide\\nDenial of obvious problems\\nMany unexplained physical problems\\nAbuse of drugs and/or alcohol\\n  In older children and pre-teens:\\nAbuse of drugs and/or alcohol\\nInability to cope with daily problems and activities\\nChanges in sleeping and/or eating habits\\nExcessive complaints of physical problems\\nDefying authority, skipping school, stealing, or damaging property\\nIntense fear of gaining weight\\nLong-lasting negative mood, often along with poor appetite and thoughts of death\\nFrequent outbursts of anger\\n  In younger children:\\nChanges in school performance\\nPoor grades despite strong efforts\\nExcessive worrying or anxiety\\nHyperactivity\\nPersistent nightmares\\nPersistent disobedience and/or aggressive behavior\\nFrequent temper tantrums',\n",
       "  'id': '4'},\n",
       " {'label': 1,\n",
       "  'query_type': 'faq',\n",
       "  'question': 'Can people with mental illness recover?',\n",
       "  'answer': 'When healing from mental illness, early identification and treatment are of vital importance. Based on the nature of the illness, there are a range of effective treatments available. For any type of treatment, it is essential that the person affected is proactive and fully engaged in their own recovery process.\\nMany people with mental illnesses who are diagnosed and treated respond well, although some might experience a return of symptoms. Even in such cases, with careful monitoring and management of the disorder, it is still quite possible to live a fulfilled and productive life.',\n",
       "  'id': '5'}]"
      ]
     },
     "execution_count": 3,
     "metadata": {},
     "output_type": "execute_result"
    }
   ],
   "source": [
    "# check first 5 entries\n",
    "query_answer_pairs[:5]"
   ]
  },
  {
   "cell_type": "code",
   "execution_count": 4,
   "metadata": {},
   "outputs": [
    {
     "ename": "KeyError",
     "evalue": "'rank'",
     "output_type": "error",
     "traceback": [
      "\u001b[1;31m---------------------------------------------------------------------------\u001b[0m",
      "\u001b[1;31mKeyError\u001b[0m                                  Traceback (most recent call last)",
      "File \u001b[1;32mc:\\Users\\Usuario\\AppData\\Local\\Programs\\Python\\Python39\\lib\\site-packages\\pandas\\core\\indexes\\base.py:3803\u001b[0m, in \u001b[0;36mIndex.get_loc\u001b[1;34m(self, key, method, tolerance)\u001b[0m\n\u001b[0;32m   3802\u001b[0m \u001b[39mtry\u001b[39;00m:\n\u001b[1;32m-> 3803\u001b[0m     \u001b[39mreturn\u001b[39;00m \u001b[39mself\u001b[39;49m\u001b[39m.\u001b[39;49m_engine\u001b[39m.\u001b[39;49mget_loc(casted_key)\n\u001b[0;32m   3804\u001b[0m \u001b[39mexcept\u001b[39;00m \u001b[39mKeyError\u001b[39;00m \u001b[39mas\u001b[39;00m err:\n",
      "File \u001b[1;32mc:\\Users\\Usuario\\AppData\\Local\\Programs\\Python\\Python39\\lib\\site-packages\\pandas\\_libs\\index.pyx:138\u001b[0m, in \u001b[0;36mpandas._libs.index.IndexEngine.get_loc\u001b[1;34m()\u001b[0m\n",
      "File \u001b[1;32mc:\\Users\\Usuario\\AppData\\Local\\Programs\\Python\\Python39\\lib\\site-packages\\pandas\\_libs\\index.pyx:165\u001b[0m, in \u001b[0;36mpandas._libs.index.IndexEngine.get_loc\u001b[1;34m()\u001b[0m\n",
      "File \u001b[1;32mpandas\\_libs\\hashtable_class_helper.pxi:5745\u001b[0m, in \u001b[0;36mpandas._libs.hashtable.PyObjectHashTable.get_item\u001b[1;34m()\u001b[0m\n",
      "File \u001b[1;32mpandas\\_libs\\hashtable_class_helper.pxi:5753\u001b[0m, in \u001b[0;36mpandas._libs.hashtable.PyObjectHashTable.get_item\u001b[1;34m()\u001b[0m\n",
      "\u001b[1;31mKeyError\u001b[0m: 'rank'",
      "\nThe above exception was the direct cause of the following exception:\n",
      "\u001b[1;31mKeyError\u001b[0m                                  Traceback (most recent call last)",
      "Cell \u001b[1;32mIn[4], line 18\u001b[0m\n\u001b[0;32m     13\u001b[0m \u001b[39m# hard Type\u001b[39;00m\n\u001b[0;32m     14\u001b[0m tdg \u001b[39m=\u001b[39m Training_Data_Generator(\n\u001b[0;32m     15\u001b[0m     random_seed\u001b[39m=\u001b[39m\u001b[39m5\u001b[39m, num_samples\u001b[39m=\u001b[39m\u001b[39m24\u001b[39m, hard_filepath\u001b[39m=\u001b[39m\u001b[39m'\u001b[39m\u001b[39m../../../BERT-FAQ/data/MentalFAQ/\u001b[39m\u001b[39m'\u001b[39m, \n\u001b[0;32m     16\u001b[0m     neg_type\u001b[39m=\u001b[39m\u001b[39m'\u001b[39m\u001b[39mhard\u001b[39m\u001b[39m'\u001b[39m, query_type\u001b[39m=\u001b[39m\u001b[39m'\u001b[39m\u001b[39mfaq\u001b[39m\u001b[39m'\u001b[39m, loss_type\u001b[39m=\u001b[39m\u001b[39m'\u001b[39m\u001b[39mtriplet\u001b[39m\u001b[39m'\u001b[39m\n\u001b[0;32m     17\u001b[0m )\n\u001b[1;32m---> 18\u001b[0m tdg\u001b[39m.\u001b[39;49mgenerate_triplet_dataset(\n\u001b[0;32m     19\u001b[0m     query_answer_pairs\u001b[39m=\u001b[39;49mquery_answer_pairs, \n\u001b[0;32m     20\u001b[0m     output_path\u001b[39m=\u001b[39;49m\u001b[39m'\u001b[39;49m\u001b[39m../../../BERT-FAQ/data/MentalFAQ/\u001b[39;49m\u001b[39m'\u001b[39;49m\n\u001b[0;32m     21\u001b[0m )\n\u001b[0;32m     24\u001b[0m tdg \u001b[39m=\u001b[39m Training_Data_Generator(\n\u001b[0;32m     25\u001b[0m     random_seed\u001b[39m=\u001b[39m\u001b[39m5\u001b[39m, num_samples\u001b[39m=\u001b[39m\u001b[39m24\u001b[39m, hard_filepath\u001b[39m=\u001b[39m\u001b[39m'\u001b[39m\u001b[39m../../../BERT-FAQ/data/MentalFAQ/\u001b[39m\u001b[39m'\u001b[39m, \n\u001b[0;32m     26\u001b[0m     neg_type\u001b[39m=\u001b[39m\u001b[39m'\u001b[39m\u001b[39msimple\u001b[39m\u001b[39m'\u001b[39m, query_type\u001b[39m=\u001b[39m\u001b[39m'\u001b[39m\u001b[39muser_query\u001b[39m\u001b[39m'\u001b[39m, loss_type\u001b[39m=\u001b[39m\u001b[39m'\u001b[39m\u001b[39mtriplet\u001b[39m\u001b[39m'\u001b[39m\n\u001b[0;32m     27\u001b[0m )\n\u001b[0;32m     28\u001b[0m tdg\u001b[39m.\u001b[39mgenerate_triplet_dataset(\n\u001b[0;32m     29\u001b[0m     query_answer_pairs\u001b[39m=\u001b[39mquery_answer_pairs, \n\u001b[0;32m     30\u001b[0m     output_path\u001b[39m=\u001b[39m\u001b[39m'\u001b[39m\u001b[39m../../../BERT-FAQ/data/MentalFAQ/\u001b[39m\u001b[39m'\u001b[39m\n\u001b[0;32m     31\u001b[0m )\n",
      "File \u001b[1;32mc:\\Users\\Usuario\\Documents\\Uni\\TFG\\BERT-FAQ\\notebook\\MentalFAQ\\../../../BERT-FAQ\\training_data_generator.py:191\u001b[0m, in \u001b[0;36mTraining_Data_Generator.generate_triplet_dataset\u001b[1;34m(self, query_answer_pairs, output_path)\u001b[0m\n\u001b[0;32m    187\u001b[0m     df\u001b[39m.\u001b[39mdrop([\u001b[39m'\u001b[39m\u001b[39mid\u001b[39m\u001b[39m'\u001b[39m], axis\u001b[39m=\u001b[39m\u001b[39m1\u001b[39m, inplace\u001b[39m=\u001b[39m\u001b[39mTrue\u001b[39;00m)\n\u001b[0;32m    189\u001b[0m \u001b[39melif\u001b[39;00m \u001b[39mself\u001b[39m\u001b[39m.\u001b[39mneg_type \u001b[39m==\u001b[39m \u001b[39m\"\u001b[39m\u001b[39mhard\u001b[39m\u001b[39m\"\u001b[39m:\n\u001b[0;32m    190\u001b[0m     \u001b[39m# generate pos, neg dataframes\u001b[39;00m\n\u001b[1;32m--> 191\u001b[0m     pos_df, neg_df \u001b[39m=\u001b[39m \u001b[39mself\u001b[39;49m\u001b[39m.\u001b[39;49mget_pos_neg_df(query_answer_pairs)\n\u001b[0;32m    192\u001b[0m     \u001b[39mif\u001b[39;00m (\u001b[39m'\u001b[39m\u001b[39mlabel\u001b[39m\u001b[39m'\u001b[39m \u001b[39min\u001b[39;00m pos_df\u001b[39m.\u001b[39mcolumns) \u001b[39mand\u001b[39;00m (\u001b[39m'\u001b[39m\u001b[39mlabel\u001b[39m\u001b[39m'\u001b[39m \u001b[39min\u001b[39;00m neg_df\u001b[39m.\u001b[39mcolumns):\n\u001b[0;32m    193\u001b[0m         pos_df\u001b[39m.\u001b[39mdrop([\u001b[39m'\u001b[39m\u001b[39mlabel\u001b[39m\u001b[39m'\u001b[39m], axis\u001b[39m=\u001b[39m\u001b[39m1\u001b[39m, inplace\u001b[39m=\u001b[39m\u001b[39mTrue\u001b[39;00m)\n",
      "File \u001b[1;32mc:\\Users\\Usuario\\Documents\\Uni\\TFG\\BERT-FAQ\\notebook\\MentalFAQ\\../../../BERT-FAQ\\training_data_generator.py:138\u001b[0m, in \u001b[0;36mTraining_Data_Generator.get_pos_neg_df\u001b[1;34m(self, query_answer_pairs)\u001b[0m\n\u001b[0;32m    136\u001b[0m     pos_labels \u001b[39m=\u001b[39m query_answer_pairs\n\u001b[0;32m    137\u001b[0m     neg_df \u001b[39m=\u001b[39m pd\u001b[39m.\u001b[39mDataFrame\u001b[39m.\u001b[39mfrom_records(neg_labels)\n\u001b[1;32m--> 138\u001b[0m     neg_df \u001b[39m=\u001b[39m neg_df[neg_df[\u001b[39m'\u001b[39;49m\u001b[39mrank\u001b[39;49m\u001b[39m'\u001b[39;49m] \u001b[39m<\u001b[39m\u001b[39m=\u001b[39m \u001b[39mself\u001b[39m\u001b[39m.\u001b[39mnum_samples]\n\u001b[0;32m    139\u001b[0m     pos_df \u001b[39m=\u001b[39m pd\u001b[39m.\u001b[39mDataFrame\u001b[39m.\u001b[39mfrom_records(pos_labels)\n\u001b[0;32m    140\u001b[0m \u001b[39melse\u001b[39;00m:\n",
      "File \u001b[1;32mc:\\Users\\Usuario\\AppData\\Local\\Programs\\Python\\Python39\\lib\\site-packages\\pandas\\core\\frame.py:3804\u001b[0m, in \u001b[0;36mDataFrame.__getitem__\u001b[1;34m(self, key)\u001b[0m\n\u001b[0;32m   3802\u001b[0m \u001b[39mif\u001b[39;00m \u001b[39mself\u001b[39m\u001b[39m.\u001b[39mcolumns\u001b[39m.\u001b[39mnlevels \u001b[39m>\u001b[39m \u001b[39m1\u001b[39m:\n\u001b[0;32m   3803\u001b[0m     \u001b[39mreturn\u001b[39;00m \u001b[39mself\u001b[39m\u001b[39m.\u001b[39m_getitem_multilevel(key)\n\u001b[1;32m-> 3804\u001b[0m indexer \u001b[39m=\u001b[39m \u001b[39mself\u001b[39;49m\u001b[39m.\u001b[39;49mcolumns\u001b[39m.\u001b[39;49mget_loc(key)\n\u001b[0;32m   3805\u001b[0m \u001b[39mif\u001b[39;00m is_integer(indexer):\n\u001b[0;32m   3806\u001b[0m     indexer \u001b[39m=\u001b[39m [indexer]\n",
      "File \u001b[1;32mc:\\Users\\Usuario\\AppData\\Local\\Programs\\Python\\Python39\\lib\\site-packages\\pandas\\core\\indexes\\base.py:3805\u001b[0m, in \u001b[0;36mIndex.get_loc\u001b[1;34m(self, key, method, tolerance)\u001b[0m\n\u001b[0;32m   3803\u001b[0m     \u001b[39mreturn\u001b[39;00m \u001b[39mself\u001b[39m\u001b[39m.\u001b[39m_engine\u001b[39m.\u001b[39mget_loc(casted_key)\n\u001b[0;32m   3804\u001b[0m \u001b[39mexcept\u001b[39;00m \u001b[39mKeyError\u001b[39;00m \u001b[39mas\u001b[39;00m err:\n\u001b[1;32m-> 3805\u001b[0m     \u001b[39mraise\u001b[39;00m \u001b[39mKeyError\u001b[39;00m(key) \u001b[39mfrom\u001b[39;00m \u001b[39merr\u001b[39;00m\n\u001b[0;32m   3806\u001b[0m \u001b[39mexcept\u001b[39;00m \u001b[39mTypeError\u001b[39;00m:\n\u001b[0;32m   3807\u001b[0m     \u001b[39m# If we have a listlike key, _check_indexing_error will raise\u001b[39;00m\n\u001b[0;32m   3808\u001b[0m     \u001b[39m#  InvalidIndexError. Otherwise we fall through and re-raise\u001b[39;00m\n\u001b[0;32m   3809\u001b[0m     \u001b[39m#  the TypeError.\u001b[39;00m\n\u001b[0;32m   3810\u001b[0m     \u001b[39mself\u001b[39m\u001b[39m.\u001b[39m_check_indexing_error(key)\n",
      "\u001b[1;31mKeyError\u001b[0m: 'rank'"
     ]
    }
   ],
   "source": [
    "####################### Triplet Loss ########################\n",
    "# simple Type\n",
    "tdg = Training_Data_Generator(\n",
    "    random_seed=5, num_samples=24, hard_filepath='../../../BERT-FAQ/data/MentalFAQ/', \n",
    "    neg_type='simple', query_type='faq', loss_type='triplet'\n",
    ")\n",
    "tdg.generate_triplet_dataset(\n",
    "    query_answer_pairs=query_answer_pairs, \n",
    "    output_path='../../../BERT-FAQ/data/MentalFAQ/'\n",
    ")\n",
    "\n",
    "\n",
    "# hard Type\n",
    "tdg = Training_Data_Generator(\n",
    "    random_seed=5, num_samples=24, hard_filepath='../../../BERT-FAQ/data/MentalFAQ/', \n",
    "    neg_type='hard', query_type='faq', loss_type='triplet'\n",
    ")\n",
    "tdg.generate_triplet_dataset(\n",
    "    query_answer_pairs=query_answer_pairs, \n",
    "    output_path='../../../BERT-FAQ/data/MentalFAQ/'\n",
    ")\n",
    "\n",
    "\n",
    "tdg = Training_Data_Generator(\n",
    "    random_seed=5, num_samples=24, hard_filepath='../../../BERT-FAQ/data/MentalFAQ/', \n",
    "    neg_type='simple', query_type='user_query', loss_type='triplet'\n",
    ")\n",
    "tdg.generate_triplet_dataset(\n",
    "    query_answer_pairs=query_answer_pairs, \n",
    "    output_path='../../../BERT-FAQ/data/MentalFAQ/'\n",
    ")\n",
    "\n",
    "\n",
    "# hard Type\n",
    "tdg = Training_Data_Generator(\n",
    "    random_seed=5, num_samples=24, hard_filepath='../../../BERT-FAQ/data/MentalFAQ/', \n",
    "    neg_type='hard', query_type='user_query', loss_type='triplet'\n",
    ")\n",
    "tdg.generate_triplet_dataset(\n",
    "    query_answer_pairs=query_answer_pairs, \n",
    "    output_path='../../../BERT-FAQ/data/MentalFAQ/'\n",
    ")\n",
    "\n",
    "\n",
    "####################### Softmax Loss ########################\n",
    "# simple Type\n",
    "tdg = Training_Data_Generator(\n",
    "    random_seed=5, num_samples=24, hard_filepath='../../../BERT-FAQ/data/MentalFAQ/', \n",
    "    neg_type='simple', query_type='faq', loss_type='softmax'\n",
    ")\n",
    "tdg.generate_triplet_dataset(\n",
    "    query_answer_pairs=query_answer_pairs, \n",
    "    output_path='../../../BERT-FAQ/data/MentalFAQ/'\n",
    ")\n",
    "\n",
    "# hard Type\n",
    "tdg = Training_Data_Generator(\n",
    "    random_seed=5, num_samples=24, hard_filepath='../../../BERT-FAQ/data/MentalFAQ/', \n",
    "    neg_type='hard', query_type='faq', loss_type='softmax'\n",
    ")\n",
    "tdg.generate_triplet_dataset(\n",
    "    query_answer_pairs=query_answer_pairs, \n",
    "    output_path='../../../BERT-FAQ/data/MentalFAQ/'\n",
    ")\n",
    "\n",
    "# simple Type\n",
    "tdg = Training_Data_Generator(\n",
    "    random_seed=5, num_samples=24, hard_filepath='../../../BERT-FAQ/data/MentalFAQ/', \n",
    "    neg_type='simple', query_type='user_query', loss_type='softmax'\n",
    ")\n",
    "tdg.generate_triplet_dataset(\n",
    "    query_answer_pairs=query_answer_pairs, \n",
    "    output_path='../../../BERT-FAQ/data/MentalFAQ/'\n",
    ")\n",
    "\n",
    "# hard Type\n",
    "tdg = Training_Data_Generator(\n",
    "    random_seed=5, num_samples=24, hard_filepath='../../../BERT-FAQ/data/MentalFAQ/', \n",
    "    neg_type='hard', query_type='user_query', loss_type='softmax'\n",
    ")\n",
    "tdg.generate_triplet_dataset(\n",
    "    query_answer_pairs=query_answer_pairs, \n",
    "    output_path='../../../BERT-FAQ/data/MentalFAQ/'\n",
    ")\n"
   ]
  }
 ],
 "metadata": {
  "accelerator": "GPU",
  "colab": {
   "collapsed_sections": [],
   "name": "01_Generating_Ground_Truth_Dataset_for_FAQIR.ipynb",
   "provenance": []
  },
  "kernelspec": {
   "display_name": "Python 3",
   "language": "python",
   "name": "python3"
  },
  "language_info": {
   "codemirror_mode": {
    "name": "ipython",
    "version": 3
   },
   "file_extension": ".py",
   "mimetype": "text/x-python",
   "name": "python",
   "nbconvert_exporter": "python",
   "pygments_lexer": "ipython3",
   "version": "3.9.13"
  },
  "vscode": {
   "interpreter": {
    "hash": "4a642a9a94d05d387b7a27be99b5a4ff6656c8c24931cc81c2f78dd14cfb5dc8"
   }
  }
 },
 "nbformat": 4,
 "nbformat_minor": 1
}
